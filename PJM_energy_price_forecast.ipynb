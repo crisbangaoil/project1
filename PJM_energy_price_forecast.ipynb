{
 "cells": [
  {
   "cell_type": "code",
   "execution_count": 3,
   "metadata": {},
   "outputs": [],
   "source": [
    "import requests\n",
    "import json\n",
    "from configw import API_KEY\n",
    "\n",
    "import openweathermapy.core as owm\n",
    "\n",
    "#config\n",
    "from config import api_key\n"
   ]
  },
  {
   "cell_type": "code",
   "execution_count": 6,
   "metadata": {},
   "outputs": [
    {
     "name": "stdout",
     "output_type": "stream",
     "text": [
      "{\n",
      "    \"error\": \"Only 1 day per request is allowed with this key. Please break up into multiple requests, or upgrade your key.\"\n",
      "}\n"
     ]
    }
   ],
   "source": [
    "url =\"https://api.weatherbit.io/v2.0/history/hourly?\"\n",
    "city = \"Raleigh,NC\"\n",
    "start_date = \"2018-11-05\"\n",
    "end_date= \"2018-11-07\"\n",
    "tz = \"local\"\n",
    "query_url = f\"{url}city={city}&start_date={start_date}&end_date={end_date}&tz={tz}&key={API_KEY}\"\n",
    "response = requests.get(query_url).json()\n",
    "#print(response)\n",
    "print(json.dumps(response, indent=4, sort_keys=True))\n",
    "\n",
    "\n"
   ]
  },
  {
   "cell_type": "code",
   "execution_count": 2,
   "metadata": {},
   "outputs": [
    {
     "name": "stdout",
     "output_type": "stream",
     "text": [
      "Current weather object for Paris: {'coord': {'lon': 2.35, 'lat': 48.86}, 'weather': [{'id': 701, 'main': 'Mist', 'description': 'mist', 'icon': '50n'}], 'base': 'stations', 'main': {'temp': 6.37, 'pressure': 1019, 'humidity': 87, 'temp_min': 5, 'temp_max': 7}, 'visibility': 10000, 'wind': {'speed': 3.1, 'deg': 160}, 'clouds': {'all': 20}, 'dt': 1541649600, 'sys': {'type': 1, 'id': 5610, 'message': 0.0054, 'country': 'FR', 'sunrise': 1541659718, 'sunset': 1541693963}, 'id': 2988507, 'name': 'Paris', 'cod': 200}.\n"
     ]
    }
   ],
   "source": []
  }
 ],
 "metadata": {
  "kernelspec": {
   "display_name": "Python 3",
   "language": "python",
   "name": "python3"
  },
  "language_info": {
   "codemirror_mode": {
    "name": "ipython",
    "version": 3
   },
   "file_extension": ".py",
   "mimetype": "text/x-python",
   "name": "python",
   "nbconvert_exporter": "python",
   "pygments_lexer": "ipython3",
   "version": "3.7.0"
  }
 },
 "nbformat": 4,
 "nbformat_minor": 2
}
